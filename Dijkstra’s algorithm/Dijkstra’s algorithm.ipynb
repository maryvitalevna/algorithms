{
 "cells": [
  {
   "cell_type": "code",
   "execution_count": 3,
   "metadata": {},
   "outputs": [],
   "source": [
    "with open(\"input1.txt\") as file_handler:\n",
    "    sc=0\n",
    "    grid=[]\n",
    "    d={}\n",
    "    \n",
    "    for i in file_handler:\n",
    "        data=list(map(lambda x: int(x),i.split()))\n",
    "        #print(data)\n",
    "        \n",
    "        if d.get(data[0]) is None:\n",
    "                \n",
    "            d[data[0]]={}\n",
    "                \n",
    "            \n",
    "        d[data[0]][data[1]]=data[2]\n",
    "  \n",
    "                \n",
    "        if d.get(data[1]) is None:\n",
    "            d[data[1]]={}\n",
    "           \n",
    "        d[data[1]][data[0]]=data[2]\n",
    "\n",
    "        \n",
    "def dekstra(d,num):\n",
    "    #stack=dict(num=0)\n",
    " \n",
    "    #d2=dict.fromkeys(d.keys(), 0)\n",
    "    sc=0\n",
    "    cost=[10**9 for i in range(0,len(d))]\n",
    "\n",
    "    begin=num\n",
    "    cost[num-1]=0\n",
    "    \n",
    "    while sc<len(d):\n",
    "        neibs=d[begin].keys()\n",
    "        flag=True\n",
    "        #print(cost,naeibs)\n",
    "        for i in neibs:\n",
    "           \n",
    "           \n",
    "            \n",
    "            if cost[begin-1]+d[begin][i]<cost[i-1]:\n",
    "                cost[i-1]=cost[begin-1]+d[begin][i]\n",
    "            if flag:\n",
    "                begin1=i\n",
    "                flag=False\n",
    "        \n",
    "        sc+=1\n",
    "        begin=begin1\n",
    "    return cost\n"
   ]
  },
  {
   "cell_type": "code",
   "execution_count": 2,
   "metadata": {},
   "outputs": [],
   "source": [
    "\n",
    "        \n",
    "        \n",
    "        \n",
    "        \n",
    "        \n",
    "        \n",
    "        \n",
    "        \n",
    "        "
   ]
  },
  {
   "cell_type": "code",
   "execution_count": null,
   "metadata": {},
   "outputs": [],
   "source": []
  }
 ],
 "metadata": {
  "kernelspec": {
   "display_name": "Python 3",
   "language": "python",
   "name": "python3"
  },
  "language_info": {
   "codemirror_mode": {
    "name": "ipython",
    "version": 3
   },
   "file_extension": ".py",
   "mimetype": "text/x-python",
   "name": "python",
   "nbconvert_exporter": "python",
   "pygments_lexer": "ipython3",
   "version": "3.7.4"
  }
 },
 "nbformat": 4,
 "nbformat_minor": 2
}
