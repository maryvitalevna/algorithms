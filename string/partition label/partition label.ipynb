{
 "cells": [
  {
   "cell_type": "markdown",
   "metadata": {},
   "source": [
    "Input: s = \"ababcbacadefegdehijhklij\"  \n",
    "Output: [9,7,8]  \n",
    "Explanation: The partition is \"ababcbaca\", \"defegde\", \"hijhklij\".  \n",
    " This is a partition so that each letter appears in at most one part.  \n",
    "A partition like \"ababcbacadefegde\", \"hijhklij\" is incorrect, because it splits s into less parts."
   ]
  },
  {
   "cell_type": "code",
   "execution_count": 1,
   "metadata": {},
   "outputs": [],
   "source": [
    "\n",
    "\n",
    "#create a dictionary with borders of a letter and a string with unique letters\n",
    "#define borders of first letter\n",
    "#look this string and check if first border of current letter in borders (defined in previous)\n",
    "#and the second border above then high border then replace\n",
    "#if  first border of current letter not in borders then append in list \n",
    "#difference between borders and replace borders with  borders of current lettera\n",
    "s = \"ababcbacadefegdehijhklijz\"\n",
    "\n",
    "    \n",
    "def partition(s):\n",
    "    d={}\n",
    "    t=[]\n",
    "    b=\"\"\n",
    "    for i,letter in enumerate(s):\n",
    "        key=d.get(letter)\n",
    "        if key is None:\n",
    "            \n",
    "            b+=letter\n",
    "            d[letter]=[i,i]\n",
    "        else:\n",
    "            d[letter][1]=i\n",
    "   \n",
    "    boards=[d[b[0]][0],d[b[0]][1]]\n",
    "    t=[]\n",
    "    for i in b[1:]:\n",
    "        #print(boards,d[i],i)\n",
    "        if d[i][0]>boards[0] and d[i][0]<boards[1]:\n",
    "            if d[i][1]>boards[1]:\n",
    "                boards[1]=d[i][1]\n",
    "        else:\n",
    "            #print(boards)\n",
    "            t.append(boards[1]-boards[0]+1)\n",
    "            boards=[d[i][0],d[i][1]]\n",
    "    t.append(boards[1]-boards[0]+1)      \n",
    "    return t,b,d\n"
   ]
  },
  {
   "cell_type": "code",
   "execution_count": null,
   "metadata": {},
   "outputs": [],
   "source": []
  }
 ],
 "metadata": {
  "kernelspec": {
   "display_name": "Python 3",
   "language": "python",
   "name": "python3"
  },
  "language_info": {
   "codemirror_mode": {
    "name": "ipython",
    "version": 3
   },
   "file_extension": ".py",
   "mimetype": "text/x-python",
   "name": "python",
   "nbconvert_exporter": "python",
   "pygments_lexer": "ipython3",
   "version": "3.7.4"
  }
 },
 "nbformat": 4,
 "nbformat_minor": 2
}
