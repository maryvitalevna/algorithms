{
 "cells": [
  {
   "cell_type": "code",
   "execution_count": 53,
   "metadata": {},
   "outputs": [],
   "source": [
    "#Наивный алгоритм \n",
    "#input: a - строка,center - индекс относительно которого будем искать паллиндром ,\n",
    "#shift =1 - поиск четного пандрома, 0 - нечетного\n",
    "#Функция наивного поиска ищет максимальный палиндром сравнивая левую и правую границы,\n",
    "#если буквы совпадают, счетчики увеличиваются\n",
    "#Алгоритм Манакера поддерживает границы максимального найденного палиндрома\n",
    "#если индекс текущего символа в границах ранее найденного палиндрома то поиск начинаем с этих границ\n",
    "#если нет то запускаем наивный алгоритм"
   ]
  },
  {
   "cell_type": "code",
   "execution_count": 54,
   "metadata": {},
   "outputs": [],
   "source": [
    "a=\"ssssbabassss\""
   ]
  },
  {
   "cell_type": "code",
   "execution_count": 56,
   "metadata": {},
   "outputs": [],
   "source": [
    "def naiv_search(a,center,shift=0):\n",
    "    \n",
    "    left=center-1\n",
    "    right=center+1-shift\n",
    "    radius=0\n",
    "    #print(a[left],a[right])\n",
    "    while left>=0 and right<len(a):\n",
    "        if a[left]==a[right]:\n",
    "            radius+=1\n",
    "            left-=1\n",
    "            right+=1\n",
    "        else:\n",
    "            break\n",
    "    return radius\n",
    "    \n",
    "\n",
    "def manaker(a,shift=0):\n",
    "    max_l=0\n",
    "    max_r=0\n",
    "    max_radius=0\n",
    "    \n",
    "    for i in range(0,len(a)):\n",
    "        #print(max_l,max_r,i,max_radius)\n",
    "        if i>max_l and i<max_r:\n",
    "            radius=min(i-max_l,max_r-i+1-shift)\n",
    "            left=i-radius\n",
    "            right=i+radius+1-shift\n",
    "            while left>0 and right<len(a):\n",
    "                if a[left]==a[right]:\n",
    "                    radius+=1\n",
    "                    left-=1\n",
    "                    right+=1\n",
    "                else: break\n",
    "        else:\n",
    "            radius=naiv_search(a,i,shift)\n",
    "            #print(\"naive\",i,radius,shift,i-radius,i+radius+1-shift)\n",
    "        if radius>max_radius:\n",
    "            \n",
    "            max_l=i-radius\n",
    "            max_r=i+radius+1-shift\n",
    "            max_radius=radius\n",
    "    return a[max_l:max_r+1]"
   ]
  },
  {
   "cell_type": "code",
   "execution_count": 58,
   "metadata": {},
   "outputs": [
    {
     "name": "stdout",
     "output_type": "stream",
     "text": [
      "ssssbabassss ssssb\n"
     ]
    }
   ],
   "source": [
    "a=\"ssssbabassss\"\n",
    "print(manaker(a,0),manaker(a,1))"
   ]
  },
  {
   "cell_type": "code",
   "execution_count": null,
   "metadata": {},
   "outputs": [],
   "source": []
  }
 ],
 "metadata": {
  "kernelspec": {
   "display_name": "Python 3",
   "language": "python",
   "name": "python3"
  },
  "language_info": {
   "codemirror_mode": {
    "name": "ipython",
    "version": 3
   },
   "file_extension": ".py",
   "mimetype": "text/x-python",
   "name": "python",
   "nbconvert_exporter": "python",
   "pygments_lexer": "ipython3",
   "version": "3.7.3"
  }
 },
 "nbformat": 4,
 "nbformat_minor": 2
}
